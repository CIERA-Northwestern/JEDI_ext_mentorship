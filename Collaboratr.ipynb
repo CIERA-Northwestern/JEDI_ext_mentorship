{
 "cells": [
  {
   "cell_type": "markdown",
   "metadata": {},
   "source": [
    "# This notebook will go through how we match up students to real scientists based on their science interests. This code is heavily based on collaboratr, a project developed at Astro Hack Week.\n",
    "\n",
    "# Check it out here: github.com/benelson/collaboratr"
   ]
  },
  {
   "cell_type": "code",
   "execution_count": 2,
   "metadata": {
    "ExecuteTime": {
     "end_time": "2020-03-29T02:09:35.373096Z",
     "start_time": "2020-03-29T02:09:35.326669Z"
    }
   },
   "outputs": [],
   "source": [
    "%matplotlib inline\n",
    "\n",
    "import matplotlib.pyplot as plt\n",
    "#import networkx as nx\n",
    "import pandas as pd\n",
    "import numpy as np\n",
    "from operator import truediv\n",
    "from nxpd import draw\n",
    "from collections import Counter\n",
    "import itertools\n",
    "import random\n",
    "\n",
    "import collaboratr\n",
    "#reload(collaboratr)"
   ]
  },
  {
   "cell_type": "markdown",
   "metadata": {},
   "source": [
    "# Step 1 Create a Google Form with these questions:\n",
    "    1. What is your name? [text entry]\n",
    "    2. What is your gender? [multiple choice]\n",
    "    3. What are your general science interests? [checkboxes]\n",
    "    \n",
    "I can ask for other information from the students (e.g., grade, school name) and scientists (email).\n",
    "\n",
    "After receiving the responses, load up the CSV of responses from the Google Form by running the cell below (you'll have to change the path to your own CSV)."
   ]
  },
  {
   "cell_type": "code",
   "execution_count": 3,
   "metadata": {
    "ExecuteTime": {
     "end_time": "2020-03-29T02:09:36.793560Z",
     "start_time": "2020-03-29T02:09:36.747143Z"
    }
   },
   "outputs": [],
   "source": [
    "# Retrieve data from Google Sheet and parse using pandas dataframe\n",
    "student_data = pd.read_csv(\"students.csv\")\n",
    "student_data = student_data.replace(np.nan,' ', regex=True)\n",
    "\n",
    "# Store student information in variables.\n",
    "#\n",
    "# Collaboratr divided people into \"learners\" and \"teachers\" based on what they wanted to \"learn\" and \"teach.\"\n",
    "# Here, students are always \"learners\" by default and the scientists are always \"teachers.\"\n",
    "# To maintain the structure of the pandas dataframe,\n",
    "# I've created blank values for what students want to \"teach\" and what scientists want to \"learn.\"\n",
    "student_names = student_data['What is your name?']\n",
    "nStudents = len(student_names)\n",
    "student_learn = student_data['What general science fields are you interested in?']\n",
    "student_teach = pd.Series([\"\" for i in range (nStudents)], index=[i for i in range(nStudents)])\n",
    "student_email = pd.Series([\"\" for i in range (nStudents)], index=[i for i in range(nStudents)])\n",
    "\n",
    "# Store scientist information in variables.\n",
    "scientist_data = pd.read_csv(\"scientists.csv\")\n",
    "scientist_data = scientist_data.replace(np.nan,' ', regex=True)\n",
    "\n",
    "scientist_names = scientist_data['What is your name?']\n",
    "nScientists = len(scientist_names)\n",
    "scientist_learn = pd.Series([\"\" for i in range (nScientists)], index=[i for i in range(nScientists)])\n",
    "scientist_teach = scientist_data['What general science fields are you interested in?']\n",
    "scientist_email = scientist_data['What is your email?']"
   ]
  },
  {
   "cell_type": "markdown",
   "metadata": {},
   "source": [
    "# Step 2: Merge the student and scientist dataframes"
   ]
  },
  {
   "cell_type": "code",
   "execution_count": 4,
   "metadata": {
    "ExecuteTime": {
     "end_time": "2020-03-29T02:09:37.614391Z",
     "start_time": "2020-03-29T02:09:37.606768Z"
    }
   },
   "outputs": [],
   "source": [
    "names = student_names.append(scientist_names, ignore_index=True)\n",
    "learn = student_learn.append(scientist_learn, ignore_index=True)\n",
    "teach = student_teach.append(scientist_teach, ignore_index=True)\n",
    "emails = student_email.append(scientist_email, ignore_index=True)"
   ]
  },
  {
   "cell_type": "code",
   "execution_count": 5,
   "metadata": {
    "ExecuteTime": {
     "end_time": "2020-03-29T02:09:38.702643Z",
     "start_time": "2020-03-29T02:09:38.603684Z"
    }
   },
   "outputs": [
    {
     "ename": "NameError",
     "evalue": "name 'nx' is not defined",
     "output_type": "error",
     "traceback": [
      "\u001b[0;31m---------------------------------------------------------------------------\u001b[0m",
      "\u001b[0;31mNameError\u001b[0m                                 Traceback (most recent call last)",
      "\u001b[0;32m<ipython-input-5-e58ea44cfbed>\u001b[0m in \u001b[0;36m<module>\u001b[0;34m\u001b[0m\n\u001b[0;32m----> 1\u001b[0;31m \u001b[0mG\u001b[0m \u001b[0;34m=\u001b[0m \u001b[0mnx\u001b[0m\u001b[0;34m.\u001b[0m\u001b[0mDiGraph\u001b[0m\u001b[0;34m(\u001b[0m\u001b[0;34m)\u001b[0m\u001b[0;34m\u001b[0m\u001b[0;34m\u001b[0m\u001b[0m\n\u001b[0m",
      "\u001b[0;31mNameError\u001b[0m: name 'nx' is not defined"
     ]
    }
   ],
   "source": [
    "G = nx.DiGraph()"
   ]
  },
  {
   "cell_type": "markdown",
   "metadata": {},
   "source": [
    "# Step 3: Assign scientists to students\n",
    "\n",
    "I thought about several ways to do this. Each student has a \"pool\" of scientists to be assigned to based on their interests. I try to have no more than 2 students assigned to each scientist, working with a limited dataset of roughly 20 scientists and 30 students. Most scientists come from astronomy/physics or psychology/neuroscience. Here are my attempts to do just that:\n",
    "\n",
    "1. For each student, randomly draw from their \"pool\" of scientists with matching interests. This typically caused the more \"underrepresented\" scientists to get oversubscribed quickly, e.g., having one biologist and having many students interested in biology. This didn't help for students who had limited interests. If I couldn't match everyone up, I'd try again with different random draws. In the end, I couldn't find a solution under these conditions. Maybe this would work better if we had a nScientists > nStudents.\n",
    "\n",
    "2. Start with the \"least popular\" topic, that is the topic where the student-to-scientist ratio is smallest. Loop through the students with those interests and try to match them to a scientist. Then, we work are way up the list until we get to the most popular topic. This approach worked much better."
   ]
  },
  {
   "cell_type": "code",
   "execution_count": 6,
   "metadata": {
    "ExecuteTime": {
     "end_time": "2020-03-29T02:09:40.066399Z",
     "start_time": "2020-03-29T02:09:40.055628Z"
    }
   },
   "outputs": [
    {
     "ename": "NameError",
     "evalue": "name 'G' is not defined",
     "output_type": "error",
     "traceback": [
      "\u001b[0;31m---------------------------------------------------------------------------\u001b[0m",
      "\u001b[0;31mNameError\u001b[0m                                 Traceback (most recent call last)",
      "\u001b[0;32m<ipython-input-6-2c59af33ea18>\u001b[0m in \u001b[0;36m<module>\u001b[0;34m\u001b[0m\n\u001b[1;32m      1\u001b[0m \u001b[0;31m# Insert users in graphs\u001b[0m\u001b[0;34m\u001b[0m\u001b[0;34m\u001b[0m\u001b[0;34m\u001b[0m\u001b[0m\n\u001b[1;32m      2\u001b[0m \u001b[0;32mfor\u001b[0m \u001b[0mn\u001b[0m\u001b[0;34m,\u001b[0m\u001b[0me\u001b[0m\u001b[0;34m,\u001b[0m\u001b[0ml\u001b[0m\u001b[0;34m,\u001b[0m\u001b[0mt\u001b[0m \u001b[0;32min\u001b[0m \u001b[0mzip\u001b[0m\u001b[0;34m(\u001b[0m\u001b[0mnames\u001b[0m\u001b[0;34m,\u001b[0m \u001b[0memails\u001b[0m\u001b[0;34m,\u001b[0m \u001b[0mlearn\u001b[0m\u001b[0;34m,\u001b[0m \u001b[0mteach\u001b[0m\u001b[0;34m)\u001b[0m\u001b[0;34m:\u001b[0m\u001b[0;34m\u001b[0m\u001b[0;34m\u001b[0m\u001b[0m\n\u001b[0;32m----> 3\u001b[0;31m     \u001b[0mcollaboratr\u001b[0m\u001b[0;34m.\u001b[0m\u001b[0minsert_node\u001b[0m\u001b[0;34m(\u001b[0m\u001b[0mG\u001b[0m\u001b[0;34m,\u001b[0m\u001b[0mn\u001b[0m\u001b[0;34m,\u001b[0m \u001b[0memail\u001b[0m\u001b[0;34m=\u001b[0m\u001b[0me\u001b[0m\u001b[0;34m,\u001b[0m \u001b[0mlearn\u001b[0m\u001b[0;34m=\u001b[0m\u001b[0ml\u001b[0m\u001b[0;34m.\u001b[0m\u001b[0msplit\u001b[0m\u001b[0;34m(\u001b[0m\u001b[0;34m';'\u001b[0m\u001b[0;34m)\u001b[0m\u001b[0;34m,\u001b[0m \u001b[0mteach\u001b[0m\u001b[0;34m=\u001b[0m\u001b[0mt\u001b[0m\u001b[0;34m.\u001b[0m\u001b[0msplit\u001b[0m\u001b[0;34m(\u001b[0m\u001b[0;34m';'\u001b[0m\u001b[0;34m)\u001b[0m\u001b[0;34m)\u001b[0m\u001b[0;34m\u001b[0m\u001b[0;34m\u001b[0m\u001b[0m\n\u001b[0m",
      "\u001b[0;31mNameError\u001b[0m: name 'G' is not defined"
     ]
    }
   ],
   "source": [
    "# Insert users in graphs\n",
    "for n,e,l,t in zip(names, emails, learn, teach):\n",
    "    collaboratr.insert_node(G,n, email=e, learn=l.split(';'), teach=t.split(';'))"
   ]
  },
  {
   "cell_type": "code",
   "execution_count": null,
   "metadata": {},
   "outputs": [],
   "source": []
  },
  {
   "cell_type": "code",
   "execution_count": null,
   "metadata": {},
   "outputs": [],
   "source": []
  },
  {
   "cell_type": "code",
   "execution_count": null,
   "metadata": {},
   "outputs": [],
   "source": []
  },
  {
   "cell_type": "code",
   "execution_count": null,
   "metadata": {},
   "outputs": [],
   "source": []
  },
  {
   "cell_type": "code",
   "execution_count": null,
   "metadata": {},
   "outputs": [],
   "source": []
  },
  {
   "cell_type": "code",
   "execution_count": 7,
   "metadata": {
    "ExecuteTime": {
     "end_time": "2020-03-29T02:09:44.608641Z",
     "start_time": "2020-03-29T02:09:44.583318Z"
    }
   },
   "outputs": [],
   "source": [
    "def sort_things(stu_data, sci_data):\n",
    "    num_interests = { r['What is your name?']:len(r['What general science fields are you interested in?'].split(';')) \\\n",
    "                 for i, r in stu_data.iterrows() }\n",
    "    stu_names_sorted = sorted(num_interests, key=num_interests.get)\n",
    "\n",
    "    interests_stu = Counter(list(itertools.chain.from_iterable(\\\n",
    "                [ i.split(';') for i in stu_data['What general science fields are you interested in?'] ])))\n",
    "    interests_sci = Counter(list(itertools.chain.from_iterable(\\\n",
    "                [ i.split(';') for i in sci_data['What general science fields are you interested in?'] ])))\n",
    "\n",
    "    interests_rel = { key: interests_stu[key]/interests_sci[key] for key in interests_sci.keys() }\n",
    "    interests_rel_sorted = sorted(interests_rel, key=interests_rel.get)\n",
    "    \n",
    "    return interests_rel_sorted, stu_names_sorted\n",
    "\n",
    "def assigner(assign, stu_data, sci_data, max_students=2):\n",
    "    assign_one = {}\n",
    "    subscriptions = { n: 0 for n in sci_data['What is your name?'] }\n",
    "\n",
    "    interests_rel_sorted, stu_names_sorted = sort_things(stu_data, sci_data)\n",
    "    \n",
    "    for key in interests_rel_sorted:\n",
    "        for name in stu_names_sorted:\n",
    "            if name not in assign_one:\n",
    "                if key in assign[name].keys():\n",
    "                    try:\n",
    "                        scientist = np.random.choice(assign[name][key])\n",
    "                    except ValueError:\n",
    "                        scientist = np.random.choice(scientist_data['What is your name?'])\n",
    "                    assign_one[name] = scientist\n",
    "\n",
    "                    subscriptions[scientist] += 1\n",
    "\n",
    "                    if subscriptions[scientist]>=max_students:\n",
    "                        for kk,vv in assign.items():\n",
    "                            if vv:\n",
    "                                for k,v in vv.items():\n",
    "                                    if scientist in v:\n",
    "                                        v.remove(scientist)\n",
    "                                        \n",
    "    for name in stu_names_sorted:\n",
    "        if name not in assign_one:\n",
    "            scientist = np.random.choice([ k for k,v in subscriptions.items() if v < max_students ])\n",
    "            assign_one[name] = scientist\n",
    "            \n",
    "    return assign_one"
   ]
  },
  {
   "cell_type": "code",
   "execution_count": 8,
   "metadata": {
    "ExecuteTime": {
     "end_time": "2020-03-29T02:09:46.262907Z",
     "start_time": "2020-03-29T02:09:46.249654Z"
    }
   },
   "outputs": [
    {
     "ename": "NameError",
     "evalue": "name 'data' is not defined",
     "output_type": "error",
     "traceback": [
      "\u001b[0;31m---------------------------------------------------------------------------\u001b[0m",
      "\u001b[0;31mNameError\u001b[0m                                 Traceback (most recent call last)",
      "\u001b[0;32m<ipython-input-8-1ab6e88013e5>\u001b[0m in \u001b[0;36m<module>\u001b[0;34m\u001b[0m\n\u001b[1;32m      2\u001b[0m \u001b[0mmax_students\u001b[0m \u001b[0;34m=\u001b[0m \u001b[0;36m2\u001b[0m\u001b[0;34m\u001b[0m\u001b[0;34m\u001b[0m\u001b[0m\n\u001b[1;32m      3\u001b[0m \u001b[0;34m\u001b[0m\u001b[0m\n\u001b[0;32m----> 4\u001b[0;31m \u001b[0;34m[\u001b[0m\u001b[0md\u001b[0m\u001b[0;34m.\u001b[0m\u001b[0mcapitalize\u001b[0m \u001b[0;32mfor\u001b[0m \u001b[0md\u001b[0m \u001b[0;32min\u001b[0m \u001b[0mdata\u001b[0m\u001b[0;34m[\u001b[0m\u001b[0;34m'Name'\u001b[0m\u001b[0;34m]\u001b[0m\u001b[0;34m.\u001b[0m\u001b[0mstr\u001b[0m\u001b[0;34m.\u001b[0m\u001b[0msplit\u001b[0m\u001b[0;34m(\u001b[0m\u001b[0;34m\"-\"\u001b[0m\u001b[0;34m)\u001b[0m\u001b[0;34m]\u001b[0m\u001b[0;34m\u001b[0m\u001b[0;34m\u001b[0m\u001b[0m\n\u001b[0m\u001b[1;32m      5\u001b[0m \u001b[0;34m\u001b[0m\u001b[0m\n\u001b[1;32m      6\u001b[0m \u001b[0;32mwhile\u001b[0m \u001b[0massign_one\u001b[0m \u001b[0;32mis\u001b[0m \u001b[0;32mNone\u001b[0m\u001b[0;34m:\u001b[0m\u001b[0;34m\u001b[0m\u001b[0;34m\u001b[0m\u001b[0m\n",
      "\u001b[0;31mNameError\u001b[0m: name 'data' is not defined"
     ]
    }
   ],
   "source": [
    "assign_one = None\n",
    "max_students = 2\n",
    "\n",
    "[d.capitalize for d in data['Name'].str.split(\"-\")]\n",
    "\n",
    "while assign_one is None:\n",
    "    try:\n",
    "        participants = G.nodes(data=True)\n",
    "        assign = collaboratr.assign_users(G,participants)\n",
    "        assign_one = assigner(assign, student_data, scientist_data, max_students=max_students)\n",
    "        if max(Counter([v for k,v in assign_one.items()]).values())>max_students:\n",
    "            assign_one = None\n",
    "\n",
    "    except ValueError:\n",
    "#        print(\"error\")\n",
    "        pass\n",
    "            \n",
    "\n",
    "print(assign_one)\n",
    "print(Counter([v for k,v in assign_one.items()]))"
   ]
  },
  {
   "cell_type": "code",
   "execution_count": null,
   "metadata": {},
   "outputs": [],
   "source": [
    "items = []\n",
    "\n",
    "for k,v in assign_one.items():\n",
    "    items.append(str(v.ljust(22) + \"-> \" + k.ljust(22) + \"who is interested in \" \\\n",
    "                     + student_data.loc[student_data['What is your name?'] == k]\\\n",
    "                     ['What general science fields are you interested in?'].tolist()[0] ))\n",
    "    \n",
    "for i in sorted(items):\n",
    "    print(i)"
   ]
  },
  {
   "cell_type": "code",
   "execution_count": null,
   "metadata": {},
   "outputs": [],
   "source": [
    "a, b = sort_things(student_data, scientist_data)\n",
    "print(a)"
   ]
  },
  {
   "cell_type": "code",
   "execution_count": null,
   "metadata": {},
   "outputs": [],
   "source": []
  }
 ],
 "metadata": {
  "kernelspec": {
   "display_name": "Python 3",
   "language": "python",
   "name": "python3"
  },
  "language_info": {
   "codemirror_mode": {
    "name": "ipython",
    "version": 3
   },
   "file_extension": ".py",
   "mimetype": "text/x-python",
   "name": "python",
   "nbconvert_exporter": "python",
   "pygments_lexer": "ipython3",
   "version": "3.7.6"
  },
  "varInspector": {
   "cols": {
    "lenName": 16,
    "lenType": 16,
    "lenVar": 40
   },
   "kernels_config": {
    "python": {
     "delete_cmd_postfix": "",
     "delete_cmd_prefix": "del ",
     "library": "var_list.py",
     "varRefreshCmd": "print(var_dic_list())"
    },
    "r": {
     "delete_cmd_postfix": ") ",
     "delete_cmd_prefix": "rm(",
     "library": "var_list.r",
     "varRefreshCmd": "cat(var_dic_list()) "
    }
   },
   "types_to_exclude": [
    "module",
    "function",
    "builtin_function_or_method",
    "instance",
    "_Feature"
   ],
   "window_display": false
  }
 },
 "nbformat": 4,
 "nbformat_minor": 1
}
