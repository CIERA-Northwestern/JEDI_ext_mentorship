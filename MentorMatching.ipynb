{
 "cells": [
  {
   "cell_type": "markdown",
   "id": "6ba9bb01",
   "metadata": {},
   "source": [
    "# Testing full pipeline"
   ]
  },
  {
   "cell_type": "code",
   "execution_count": null,
   "id": "d6f95581",
   "metadata": {},
   "outputs": [],
   "source": [
    "%load_ext autoreload\n",
    "%autoreload 2\n",
    "from py_files.network_metrics import *\n",
    "from py_files.network_viz import draw_network, get_positions, list_matches\n",
    "from py_files.email_generator import generate_email_list, generate_automatic_outlook_emails"
   ]
  },
  {
   "cell_type": "code",
   "execution_count": null,
   "id": "9e6e9462",
   "metadata": {},
   "outputs": [],
   "source": [
    "import pandas as pd\n",
    "import matplotlib.pyplot as plt\n",
    "\n",
    "%matplotlib inline"
   ]
  },
  {
   "cell_type": "code",
   "execution_count": null,
   "id": "5c7ee62c",
   "metadata": {},
   "outputs": [],
   "source": [
    "names_df = pd.read_csv('data/fall2023/namelist.csv')\n",
    "mentees_df = pd.read_csv('data/fall2023/mentees.csv')\n",
    "mentors_df = pd.read_csv('data/fall2023/mentors.csv')"
   ]
  },
  {
   "cell_type": "code",
   "execution_count": null,
   "id": "0bd0ae2f",
   "metadata": {},
   "outputs": [],
   "source": [
    "nruns = 200\n",
    "\n",
    "metrics = [\n",
    "    #{'function': run_frac_mentees_with_a_mentor,          'weight': 2, 'type':'maximize', 'normalize':False},#, 'minvalue':0},\n",
    "    #{'function': run_frac_mentees_with_a_mentor,          'weight': 1, 'type':'binary1', 'normalize':False},\n",
    "    {'function': run_frac_mentees_less_than_requested,    'weight': 1, 'type':'minimize', 'normalize':False},\n",
    "    #{'function': run_frac_mentees_atleast_one_preference, 'weight': 1, 'type':'maximize', 'normalize':False},\n",
    "    {'function': run_frac_preferences,                    'weight': 100, 'type':'maximize', 'normalize':False},\n",
    "    {'function': run_frac_mentees_alternatives,           'weight': 1, 'type':'minimize', 'normalize':False},\n",
    "    #{'function': run_frac_mentors_assigned_mentees,       'weight': 1, 'type':'maximize', 'normalize':False},\n",
    "    #{'function': run_frac_mentors_with_extra_slots,       'weight': 1, 'type':'maximize', 'normalize':False},\n",
    "    {'function': run_frac_peers_less_than_2yrapart,       'weight': 1, 'type':'minimize', 'normalize':False},\n",
    "    #{'function': run_mean_clique_size,                    'weight': 2, 'type':'maximize', 'normalize':True},\n",
    "    #{'function': run_n_cliques_gt2,                       'weight': 1, 'type':'maximize', 'normalize':True},\n",
    "    #{'function': run_network_modularity,                  'weight': 0.5, 'type':'maximize', 'normalize':True}\n",
    "]\n",
    "\n",
    "\n",
    "output = create_best_network(\n",
    "    nruns,\n",
    "    names_df,\n",
    "    mentees_df,\n",
    "    mentors_df,\n",
    "    metrics,\n",
    "    nbest = 10,\n",
    "    # loud = True,\n",
    "    combine_metric_method='multiply',\n",
    "    seed='fall2023')\n",
    "\n",
    "print(\"best:\", output['best']['combined_metric'])\n",
    "for i in range(len(output['bestlist'])-1):\n",
    "    print(\"next bests\", i+1, \":\", output['bestlist'][i+1]['combined_metric'])"
   ]
  },
  {
   "cell_type": "code",
   "execution_count": null,
   "id": "7fae296b",
   "metadata": {},
   "outputs": [],
   "source": [
    "# plot all the metrics\n",
    "nc = 4\n",
    "nr = int(np.ceil(len(metrics)/nc))\n",
    "fig,axs = plt.subplots(nr, nc, figsize = (20,6*nr))\n",
    "for i,ax in enumerate(axs.flatten()):\n",
    "    if (i < len(metrics)):\n",
    "        ax.hist(output['raw_metrics'][i], align = 'mid')\n",
    "        ax.set_title(output['metric_names'][i])\n",
    "        ax.axvline(output['raw_metrics'][i][output['best']['index']], color = 'red', lw = 3, label = 'best network')\n",
    "        for ib in range(len(output['bestlist'])-1):\n",
    "            ax.axvline(output['raw_metrics'][i][output['bestlist'][ib+1]['index']], color = 'black', lw = 1.5, alpha = (1.0-(ib+1)/10), label = 'next best #%d' %(ib+1))\n",
    "    if i == len(metrics):\n",
    "        ax.axvline(0, color = 'red', lw = 3, label = 'best network')\n",
    "        for ib in range(len(output['bestlist'])-1):\n",
    "            ax.axvline(0, color = 'black', lw = 1.5, alpha = (1.0-(ib+1)/10), label = 'next best #%d' %(ib+1))\n",
    "        ax.legend()\n",
    "        \n",
    "print (\"best network values:\")\n",
    "for i in range(len(metrics)):\n",
    "    print(output['metric_names'][i], ':', output['raw_metrics'][i][output['best']['index']])"
   ]
  },
  {
   "cell_type": "code",
   "execution_count": null,
   "id": "0d2a0f32",
   "metadata": {},
   "outputs": [],
   "source": [
    "# plot the combined metric\n",
    "f,ax = plt.subplots()\n",
    "_ = ax.hist(output['combined_metric'], bins=50)\n",
    "_ = ax.set_title('combined metric')"
   ]
  },
  {
   "cell_type": "code",
   "execution_count": null,
   "id": "dc2f0ab6",
   "metadata": {},
   "outputs": [],
   "source": [
    "_ = draw_network(output['best']['network'])"
   ]
  },
  {
   "cell_type": "code",
   "execution_count": null,
   "id": "0d19829b",
   "metadata": {},
   "outputs": [],
   "source": [
    "_ = draw_network(output['best']['network'],show_remaining_spots=True)"
   ]
  },
  {
   "cell_type": "code",
   "execution_count": null,
   "id": "c8ad75cd",
   "metadata": {},
   "outputs": [],
   "source": [
    "matches = list_matches(output['best']['network'])\n",
    "matches"
   ]
  },
  {
   "cell_type": "code",
   "execution_count": null,
   "id": "6d40ba90",
   "metadata": {},
   "outputs": [],
   "source": []
  },
  {
   "cell_type": "markdown",
   "id": "c946d1e2",
   "metadata": {},
   "source": [
    "## Generate a file to use when creating emails"
   ]
  },
  {
   "cell_type": "code",
   "execution_count": null,
   "id": "6ee28410",
   "metadata": {},
   "outputs": [],
   "source": [
    "import json"
   ]
  },
  {
   "cell_type": "code",
   "execution_count": null,
   "id": "577b59d3",
   "metadata": {},
   "outputs": [],
   "source": [
    "# generate a list of email dicts and save to a file\n",
    "emails = generate_email_list(output['best']['network'])\n",
    "with open('data/beta/emails.json', 'w', encoding='utf-8') as f:\n",
    "    json.dump(emails, f, ensure_ascii=False, indent=4)"
   ]
  },
  {
   "cell_type": "code",
   "execution_count": null,
   "id": "eebb3f5b",
   "metadata": {},
   "outputs": [],
   "source": [
    "# read in the emails file and generate the emails\n",
    "with open('data/beta/emails.json', 'r') as f:\n",
    "    emails = json.load(f)\n",
    "generate_automatic_outlook_emails(emails, N=2)"
   ]
  },
  {
   "cell_type": "markdown",
   "id": "8c6d5f76",
   "metadata": {},
   "source": [
    "# Scratch space below ..."
   ]
  },
  {
   "cell_type": "code",
   "execution_count": null,
   "id": "f48d1cff-8b21-403f-88ac-049db8a902ba",
   "metadata": {},
   "outputs": [],
   "source": [
    "%load_ext autoreload\n",
    "%autoreload 2\n",
    "import numpy as np\n",
    "import matplotlib.pyplot as plt\n",
    "%matplotlib inline"
   ]
  },
  {
   "cell_type": "code",
   "execution_count": null,
   "id": "a034581c-0dd3-4a2a-9fa5-eed5339e45d4",
   "metadata": {},
   "outputs": [],
   "source": [
    "import networkx as nx"
   ]
  },
  {
   "cell_type": "code",
   "execution_count": null,
   "id": "e59982e8-4506-4a88-9652-74bd9b9f4065",
   "metadata": {},
   "outputs": [],
   "source": [
    "import pandas as pd"
   ]
  },
  {
   "cell_type": "code",
   "execution_count": null,
   "id": "162a1b72-194b-4c5e-84b4-1976b0acb5b4",
   "metadata": {},
   "outputs": [],
   "source": [
    "from mentor_matching import reduce_full_tables"
   ]
  },
  {
   "cell_type": "code",
   "execution_count": null,
   "id": "0e3799fc-8b08-4dcf-8218-b66b14cb64a6",
   "metadata": {},
   "outputs": [],
   "source": [
    "names_df = pd.read_csv('data/alpha2/name_list.csv')\n",
    "all_names = names_df.loc[:,::2].values.flatten()\n",
    "for i in range(len(all_names)): \n",
    "    name = all_names[i]\n",
    "    if type(name) == str:\n",
    "        all_names[i] = name.replace(' ','')\n",
    "\n",
    "## show just the first 5 rows\n",
    "names_df.head()"
   ]
  },
  {
   "cell_type": "code",
   "execution_count": null,
   "id": "adba1b40-023f-4c80-b08b-ade6d6d531fe",
   "metadata": {},
   "outputs": [],
   "source": [
    "mentees_df = pd.read_csv('data/alpha2/mentees.csv')\n",
    "#mentees_df.head()"
   ]
  },
  {
   "cell_type": "code",
   "execution_count": null,
   "id": "eebaeff9-ede6-475a-b8ec-7c053f16fe25",
   "metadata": {},
   "outputs": [],
   "source": [
    "mentors_df = pd.read_csv('data/alpha2/mentors.csv')\n",
    "#mentors_df.head()"
   ]
  },
  {
   "cell_type": "code",
   "execution_count": null,
   "id": "c916383e-355c-44c4-8b37-05d693f60037",
   "metadata": {},
   "outputs": [],
   "source": [
    "for person in people.values():\n",
    "    if person.rank == 0:\n",
    "        person.print_preferences()"
   ]
  },
  {
   "cell_type": "markdown",
   "id": "a88ee85a-2bbd-4626-b8d1-569ae8dacd05",
   "metadata": {},
   "source": [
    "--------"
   ]
  },
  {
   "cell_type": "code",
   "execution_count": null,
   "id": "667c238a-8759-49aa-9b6e-a37b68a073e6",
   "metadata": {},
   "outputs": [],
   "source": [
    "from mentor_matching import generate_network\n",
    "from network_metrics import *"
   ]
  },
  {
   "cell_type": "code",
   "execution_count": null,
   "id": "fbfd0ce5-1065-4484-bb20-c576f67076be",
   "metadata": {},
   "outputs": [],
   "source": [
    "fig,axs = plt.subplots(nrows=2,ncols=5)\n",
    "for i,ax in enumerate(axs.flatten()):\n",
    "    if (i < len(vals)):\n",
    "        ax.hist(vals[i], align = 'mid')\n",
    "        ax.set_title(names[i])\n",
    "fig.set_size_inches(26,8)"
   ]
  },
  {
   "cell_type": "code",
   "execution_count": null,
   "id": "dd695cfd",
   "metadata": {},
   "outputs": [],
   "source": [
    "vals.shape"
   ]
  },
  {
   "cell_type": "code",
   "execution_count": null,
   "id": "28e60dc2",
   "metadata": {},
   "outputs": [],
   "source": [
    "# testing a method to pick the best network\n",
    "# in order of vals array\n",
    "# 0: (top) maximize frac_mentees_with_a_mentor\n",
    "# 1: maximize frac_mentees_less_than_requested\n",
    "# 2: maximize frac_mentors_assigned_mentees ?\n",
    "# 3: maximize frac_mentors_with_extra_slots ?\n",
    "# 4: (top) throw out any with frac_mentors_overassigned --> required check\n",
    "# 5: maximize frac_mentees_atleast_one_preference\n",
    "# 6: (top) throw out any with frac_any_avoid > 0 --> required check\n",
    "# 7: (top) maximize mean_clique_size\n",
    "# 8: maximize n_cliques_gt\n",
    "# 9: minmize alternative mentor assignments\n",
    "\n",
    "combined_metric = [0]*nruns\n",
    "topfac = 2.\n",
    "midfac = 1.\n",
    "#for normalizing the clique size\n",
    "def norm_n_metric(val, arr):\n",
    "    return (val - min(arr))/(max(arr) - min(arr))\n",
    "\n",
    "for i in range(nruns):\n",
    "    #top priority\n",
    "    top = vals[0, i]*norm_n_metric(vals[7, i], vals[7])\n",
    "    if (vals[4, i] > 0 or vals[6, i] > 0):\n",
    "        top = 0\n",
    "        \n",
    "    #less important\n",
    "    mid = vals[1,i]*vals[2,i]*vals[3,i]*vals[5,i]*norm_n_metric(vals[8,i], vals[8])\n",
    "    \n",
    "    #sum (note: this is some combined multiply and weighted average method...)\n",
    "    combined_metric[i] = (topfac*top + midfac*mid)/(topfac + midfac)\n",
    "\n",
    "#just a check\n",
    "best = [i for (i, x) in enumerate(combined_metric) if x > 0.5]\n",
    "print(best)\n",
    "print(combined_metric[best[0]])\n",
    "print('N with combined_metric > 0.7', len(best))\n",
    "the_best = networks[best[0]]"
   ]
  },
  {
   "cell_type": "code",
   "execution_count": null,
   "id": "e1244199",
   "metadata": {},
   "outputs": [],
   "source": [
    "f, ax = plt.subplots()\n",
    "_ = ax.hist(combined_metric)"
   ]
  },
  {
   "cell_type": "code",
   "execution_count": null,
   "id": "01f13432",
   "metadata": {},
   "outputs": [],
   "source": [
    "# testing a method to pick the best network\n",
    "# in order of vals array\n",
    "# 0: (top) maximize frac_mentees_with_a_mentor\n",
    "# 1: maximize frac_mentees_less_than_requested\n",
    "# 2: maximize frac_mentors_assigned_mentees ?\n",
    "# 3: maximize frac_mentors_with_extra_slots ?\n",
    "# 4: (top) throw out any with frac_mentors_overassigned --> required check\n",
    "# 5: maximize frac_mentees_atleast_one_preference\n",
    "# 6: (top) throw out any with frac_any_avoid > 0 --> required check\n",
    "# 7: (top) maximize mean_clique_size\n",
    "# 8: maximize n_cliques_gt\n",
    "# 9: minmize alternative mentor assignments\n",
    "\n",
    "from network_metrics import *\n",
    "\n",
    "metrics = [\n",
    "    {'function': run_frac_mentees_with_a_mentor,          'weight': 2, 'type':'maximize', 'normalize':False},\n",
    "    {'function': run_frac_mentees_less_than_requested,    'weight': 1, 'type':'maximize', 'normalize':False},\n",
    "    {'function': run_frac_mentors_assigned_mentees,       'weight': 1, 'type':'maximize', 'normalize':False},\n",
    "    {'function': run_frac_mentors_with_extra_slots,       'weight': 1, 'type':'maximize', 'normalize':False},\n",
    "    {'function': run_frac_mentors_overassigned,           'weight': 1, 'type':'binary0',  'normalize':False},\n",
    "    {'function': run_frac_mentees_atleast_one_preference, 'weight': 1, 'type':'maximize', 'normalize':False},\n",
    "    {'function': run_frac_any_avoid,                      'weight': 1, 'type':'binary0',  'normalize':False},\n",
    "    {'function': run_mean_clique_size,                    'weight': 2, 'type':'maximize', 'normalize':True},\n",
    "    {'function': run_n_cliques_gt2,                       'weight': 1, 'type':'maximize', 'normalize':True},\n",
    "    {'function': run_frac_mentees_alternatives,           'weight': 1, 'type':'minimize', 'normalize':False},\n",
    "]\n",
    "\n",
    "multiply_metrics = run_weighted_metrics(people_list, network_list, metrics, method='multiply')\n",
    "add_metrics = run_weighted_metrics(people_list, network_list, metrics, method='mean')"
   ]
  },
  {
   "cell_type": "code",
   "execution_count": null,
   "id": "7944a201",
   "metadata": {},
   "outputs": [],
   "source": [
    "nc = 5\n",
    "nr = int(np.ceil(len(metrics)/nc))\n",
    "fig,axs = plt.subplots(nrows = nr, ncols = nc)\n",
    "for i,ax in enumerate(axs.flatten()):\n",
    "    if (i < len(metrics)):\n",
    "        ax.hist(multiply_metrics['raw_metrics'][i], align = 'mid')\n",
    "        ax.set_title(multiply_metrics['metric_names'][i])\n",
    "fig.set_size_inches(26,8)"
   ]
  },
  {
   "cell_type": "code",
   "execution_count": null,
   "id": "58663c62",
   "metadata": {},
   "outputs": [],
   "source": [
    "f, ax = plt.subplots(1, 2)\n",
    "_ = ax[0].hist(multiply_metrics['combined_metric'])\n",
    "_ = ax[1].hist(add_metrics['combined_metric'])"
   ]
  },
  {
   "cell_type": "code",
   "execution_count": null,
   "id": "65cf2ae7",
   "metadata": {},
   "outputs": [],
   "source": []
  }
 ],
 "metadata": {
  "kernelspec": {
   "display_name": "Python 3 (ipykernel)",
   "language": "python",
   "name": "python3"
  },
  "language_info": {
   "codemirror_mode": {
    "name": "ipython",
    "version": 3
   },
   "file_extension": ".py",
   "mimetype": "text/x-python",
   "name": "python",
   "nbconvert_exporter": "python",
   "pygments_lexer": "ipython3",
   "version": "3.10.9"
  }
 },
 "nbformat": 4,
 "nbformat_minor": 5
}
