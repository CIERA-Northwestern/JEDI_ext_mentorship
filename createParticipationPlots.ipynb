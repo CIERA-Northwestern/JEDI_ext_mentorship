{
 "cells": [
  {
   "cell_type": "markdown",
   "id": "77956d2a",
   "metadata": {},
   "source": [
    "# Create bar charts showing the percentage of people who volunteered to participate in the network from each role"
   ]
  },
  {
   "cell_type": "code",
   "execution_count": null,
   "id": "35e766fd",
   "metadata": {},
   "outputs": [],
   "source": [
    "import pandas as pd\n",
    "import numpy as np\n",
    "import matplotlib.pyplot as plt\n",
    "\n",
    "%matplotlib inline"
   ]
  },
  {
   "cell_type": "code",
   "execution_count": null,
   "id": "df4fbc40",
   "metadata": {},
   "outputs": [],
   "source": [
    "# I removed duplicates by hand in Excel\n",
    "namelist = pd.read_csv('cleaned_data/namelist_unique.csv')\n",
    "# fix the roles to match our survey\n",
    "namelist.loc[namelist['Role'] == 'Postdocs', 'Role'] = 'Postdoc'\n",
    "namelist.loc[namelist['Role'] == 'Graduate Students', 'Role'] = 'Graduate student'\n",
    "namelist.loc[namelist['Role'] == 'Undergraduate', 'Role'] = 'Undergraduate student / Post-Bac'\n",
    "\n",
    "namelist"
   ]
  },
  {
   "cell_type": "code",
   "execution_count": null,
   "id": "b4b397ab",
   "metadata": {},
   "outputs": [],
   "source": [
    "mentors = pd.read_csv('cleaned_data/mentors.csv')\n",
    "mentees = pd.read_csv('cleaned_data/mentees.csv')"
   ]
  },
  {
   "cell_type": "code",
   "execution_count": null,
   "id": "331c13b1",
   "metadata": {},
   "outputs": [],
   "source": [
    "def createFigure(data, title = ''):\n",
    "    f,ax = plt.subplots(figsize=(5,4))\n",
    "\n",
    "    # sort the data (nice aspect of pandas dataFrames)\n",
    "    data.sort_values('pct', inplace=True)\n",
    "\n",
    "    ind = np.arange(len(data))  # the x locations for the bars\n",
    "    width = 0.75 # the width of the bars\n",
    "    rects = ax.barh(ind, data['pct'], width, zorder=2)\n",
    "\n",
    "    # add some text for labels, title and axes ticks\n",
    "    ax.set_title(title, fontsize = 24)\n",
    "    ax.set_yticks(ind)\n",
    "    ax.set_yticklabels(data['label'], fontsize = 16)\n",
    "\n",
    "    # remove all the axes, ticks and lower x label\n",
    "    aoff = ['right', 'left', 'top', 'bottom']\n",
    "    for x in aoff:\n",
    "        ax.spines[x].set_visible(False)\n",
    "    ax.tick_params(length=0)\n",
    "    _ = ax.set_xticklabels([' ']*len(data))\n",
    "\n",
    "    for i, r in enumerate(rects):\n",
    "        h = r.get_height()\n",
    "        w = r.get_width()\n",
    "        y = r.get_y()\n",
    "        x = w + 1\n",
    "        y += 0.4\n",
    "        r.set_color('gray')\n",
    "        text = f'{data[\"pct\"].iloc[i]:.1f}% ({data[\"n\"].iloc[i]:d}/{data[\"total\"].iloc[i]:d})'\n",
    "        ax.text(x, y ,text , ha='left', va='center', zorder = 3, fontsize = 16) \n",
    "        \n",
    "    return f,ax"
   ]
  },
  {
   "cell_type": "code",
   "execution_count": null,
   "id": "fa280c55",
   "metadata": {},
   "outputs": [],
   "source": [
    "unique_roles = namelist['Role'].unique()\n",
    "unique_roles"
   ]
  },
  {
   "cell_type": "code",
   "execution_count": null,
   "id": "b9f4bb83",
   "metadata": {},
   "outputs": [],
   "source": [
    "# mentors\n",
    "\n",
    "pct_volunteered = np.zeros_like(unique_roles)\n",
    "n_volunteered = np.zeros_like(unique_roles)\n",
    "tot_volunteered = np.zeros_like(unique_roles)\n",
    "for i,r in enumerate(unique_roles):\n",
    "    tot_volunteered[i] = len(namelist.loc[namelist['Role'] == r])\n",
    "    n_volunteered[i] = len(mentors.loc[mentors['Role'] == r])\n",
    "    pct_volunteered[i] = n_volunteered[i]/tot_volunteered[i]*100.\n",
    "    # print(f'{r} : total = {tot}, n_volunteered = {n}, percentage = {pct_volunteered[i]:.1f}')\n",
    "\n",
    "\n",
    "data = pd.DataFrame({'label':unique_roles,'pct':pct_volunteered, 'n':n_volunteered, 'total':tot_volunteered})\n",
    "print(data)\n",
    "\n",
    "f, ax = createFigure(data, title = 'Percent Participation as Mentors')\n",
    "f.savefig('fall2022_mentor_participation.png', bbox_inches = 'tight')"
   ]
  },
  {
   "cell_type": "code",
   "execution_count": null,
   "id": "0af4fd73",
   "metadata": {},
   "outputs": [],
   "source": [
    "# mentees\n",
    "\n",
    "pct_volunteered = np.zeros_like(unique_roles)\n",
    "n_volunteered = np.zeros_like(unique_roles)\n",
    "tot_volunteered = np.zeros_like(unique_roles)\n",
    "for i,r in enumerate(unique_roles):\n",
    "    tot_volunteered[i] = len(namelist.loc[namelist['Role'] == r])\n",
    "    n_volunteered[i] = len(mentees.loc[mentees['Role'] == r])\n",
    "    pct_volunteered[i] = n_volunteered[i]/tot_volunteered[i]*100.\n",
    "    # print(f'{r} : total = {tot}, n_volunteered = {n}, percentage = {pct_volunteered[i]:.1f}')\n",
    "\n",
    "\n",
    "data = pd.DataFrame({'label':unique_roles,'pct':pct_volunteered, 'n':n_volunteered, 'total':tot_volunteered})\n",
    "print(data)\n",
    "\n",
    "f, ax = createFigure(data, title = 'Percent Participation as Mentees')\n",
    "f.savefig('fall2022_mentee_participation.png', bbox_inches = 'tight')"
   ]
  },
  {
   "cell_type": "code",
   "execution_count": null,
   "id": "e7f65392",
   "metadata": {},
   "outputs": [],
   "source": []
  }
 ],
 "metadata": {
  "kernelspec": {
   "display_name": "Python 3 (ipykernel)",
   "language": "python",
   "name": "python3"
  },
  "language_info": {
   "codemirror_mode": {
    "name": "ipython",
    "version": 3
   },
   "file_extension": ".py",
   "mimetype": "text/x-python",
   "name": "python",
   "nbconvert_exporter": "python",
   "pygments_lexer": "ipython3",
   "version": "3.10.4"
  }
 },
 "nbformat": 4,
 "nbformat_minor": 5
}
