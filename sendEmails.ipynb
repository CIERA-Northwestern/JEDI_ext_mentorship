{
 "cells": [
  {
   "cell_type": "markdown",
   "id": "e969ae80",
   "metadata": {},
   "source": [
    "# Generate the emails using an emails.json file\n",
    "\n",
    "```emails.json``` is created with the ```generate_email_list``` function:\n",
    "\n",
    "```\n",
    "import json\n",
    "emails = generate_email_list(output['best']['network'])\n",
    "with open('/content/gdrive/MyDrive/CIERA-Mentorship-Action-Team/Extended Mentoring Structure/CIERA Fall 2022/emails.json', 'w', encoding='utf-8') as f:\n",
    "     json.dump(emails, f, ensure_ascii=False, indent=4)\n",
    "```\n",
    "\n",
    "The code below reads in that file and produces emails with Outlook that the user can then send.  (It can also automatically send the emails if you edit the ```outlook_email_generator``` code to set ```send=True```, but this seems a bit dangerous.  I have not tried this functionality yet!)"
   ]
  },
  {
   "cell_type": "code",
   "execution_count": 12,
   "id": "47d45503",
   "metadata": {},
   "outputs": [],
   "source": [
    "from outlook_email_generator import generate_automatic_outlook_emails\n",
    "import json"
   ]
  },
  {
   "cell_type": "code",
   "execution_count": 20,
   "id": "2cb3c7fe",
   "metadata": {},
   "outputs": [],
   "source": [
    "with open('emails.json', 'r', encoding='utf-8') as f:\n",
    "    data = json.load(f)\n",
    "\n",
    "    # it is probably a good idea to test only one before generating all the emails\n",
    "#     print(data[0])\n",
    "#     generate_automatic_outlook_emails(data, N = 1)\n",
    "    \n",
    "    # when satisfied run the full file\n",
    "    generate_automatic_outlook_emails(data)"
   ]
  },
  {
   "cell_type": "code",
   "execution_count": null,
   "id": "3752852f",
   "metadata": {},
   "outputs": [],
   "source": []
  }
 ],
 "metadata": {
  "kernelspec": {
   "display_name": "Python 3 (ipykernel)",
   "language": "python",
   "name": "python3"
  },
  "language_info": {
   "codemirror_mode": {
    "name": "ipython",
    "version": 3
   },
   "file_extension": ".py",
   "mimetype": "text/x-python",
   "name": "python",
   "nbconvert_exporter": "python",
   "pygments_lexer": "ipython3",
   "version": "3.10.4"
  }
 },
 "nbformat": 4,
 "nbformat_minor": 5
}
